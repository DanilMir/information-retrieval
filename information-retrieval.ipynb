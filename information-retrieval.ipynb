{
 "cells": [
  {
   "metadata": {},
   "cell_type": "markdown",
   "source": [
    "**Датасет**: https://www.kaggle.com/datasets/andrewmvd/steam-reviews\n",
    "\n",
    "**Об этом наборе данных**: Набор данных содержит более 6,4 миллиона общедоступных рецензий на английском языке из раздела Steam Reviews магазина Steam, управляемого компанией Valve. Каждый отзыв описывается текстом отзыва, идентификатором игры, к которой он относится, настроением отзыва (положительным или отрицательным) и количеством пользователей, посчитавших отзыв полезным."
   ],
   "id": "d89e1b27f7703180"
  },
  {
   "metadata": {
    "ExecuteTime": {
     "end_time": "2024-04-05T02:55:55.826364Z",
     "start_time": "2024-04-05T02:55:55.466007Z"
    }
   },
   "cell_type": "code",
   "source": [
    "import pandas as pd\n",
    "from sklearn.feature_extraction.text import CountVectorizer, TfidfVectorizer\n",
    "from sklearn.metrics.pairwise import cosine_similarity\n",
    "from gensim.models import Word2Vec, FastText\n",
    "from nltk.tokenize import word_tokenize\n",
    "import nltk\n",
    "nltk.download('punkt')"
   ],
   "id": "bb8ac705de30c4b",
   "outputs": [
    {
     "name": "stderr",
     "output_type": "stream",
     "text": [
      "[nltk_data] Downloading package punkt to /home/dm/nltk_data...\n",
      "[nltk_data]   Package punkt is already up-to-date!\n"
     ]
    },
    {
     "data": {
      "text/plain": [
       "True"
      ]
     },
     "execution_count": 139,
     "metadata": {},
     "output_type": "execute_result"
    }
   ],
   "execution_count": 139
  },
  {
   "metadata": {},
   "cell_type": "markdown",
   "source": "# Загрузка датасета",
   "id": "a41c810c26894cf2"
  },
  {
   "metadata": {
    "ExecuteTime": {
     "end_time": "2024-04-05T02:55:59.520609Z",
     "start_time": "2024-04-05T02:55:55.829299Z"
    }
   },
   "cell_type": "code",
   "source": [
    "# Загрузка данных\n",
    "df = pd.read_csv(\"dataset.csv\")\n",
    "\n",
    "df.dropna(subset=['review_text'], inplace=True)\n",
    "df.head()"
   ],
   "id": "d91e7c3981c79415",
   "outputs": [
    {
     "data": {
      "text/plain": [
       "   app_id                    app_name  \\\n",
       "0  203160                 Tomb Raider   \n",
       "1     300       Day of Defeat: Source   \n",
       "2  234710               Poker Night 2   \n",
       "3  113200        The Binding of Isaac   \n",
       "4  252030  Valdis Story: Abyssal City   \n",
       "\n",
       "                                         review_text  review_score  \\\n",
       "0  Definitely one of the best games of 2013! A mu...             1   \n",
       "1  Really fun! A bit sad that there aren't so man...             1   \n",
       "2  Great little poker game with fun characters (i...             1   \n",
       "3  Okay I have just bought the Binding of Issac f...             1   \n",
       "4  Apart from the at times annoying platforming a...             1   \n",
       "\n",
       "   review_votes  \n",
       "0             0  \n",
       "1             1  \n",
       "2             0  \n",
       "3             0  \n",
       "4             0  "
      ],
      "text/html": [
       "<div>\n",
       "<style scoped>\n",
       "    .dataframe tbody tr th:only-of-type {\n",
       "        vertical-align: middle;\n",
       "    }\n",
       "\n",
       "    .dataframe tbody tr th {\n",
       "        vertical-align: top;\n",
       "    }\n",
       "\n",
       "    .dataframe thead th {\n",
       "        text-align: right;\n",
       "    }\n",
       "</style>\n",
       "<table border=\"1\" class=\"dataframe\">\n",
       "  <thead>\n",
       "    <tr style=\"text-align: right;\">\n",
       "      <th></th>\n",
       "      <th>app_id</th>\n",
       "      <th>app_name</th>\n",
       "      <th>review_text</th>\n",
       "      <th>review_score</th>\n",
       "      <th>review_votes</th>\n",
       "    </tr>\n",
       "  </thead>\n",
       "  <tbody>\n",
       "    <tr>\n",
       "      <th>0</th>\n",
       "      <td>203160</td>\n",
       "      <td>Tomb Raider</td>\n",
       "      <td>Definitely one of the best games of 2013! A mu...</td>\n",
       "      <td>1</td>\n",
       "      <td>0</td>\n",
       "    </tr>\n",
       "    <tr>\n",
       "      <th>1</th>\n",
       "      <td>300</td>\n",
       "      <td>Day of Defeat: Source</td>\n",
       "      <td>Really fun! A bit sad that there aren't so man...</td>\n",
       "      <td>1</td>\n",
       "      <td>1</td>\n",
       "    </tr>\n",
       "    <tr>\n",
       "      <th>2</th>\n",
       "      <td>234710</td>\n",
       "      <td>Poker Night 2</td>\n",
       "      <td>Great little poker game with fun characters (i...</td>\n",
       "      <td>1</td>\n",
       "      <td>0</td>\n",
       "    </tr>\n",
       "    <tr>\n",
       "      <th>3</th>\n",
       "      <td>113200</td>\n",
       "      <td>The Binding of Isaac</td>\n",
       "      <td>Okay I have just bought the Binding of Issac f...</td>\n",
       "      <td>1</td>\n",
       "      <td>0</td>\n",
       "    </tr>\n",
       "    <tr>\n",
       "      <th>4</th>\n",
       "      <td>252030</td>\n",
       "      <td>Valdis Story: Abyssal City</td>\n",
       "      <td>Apart from the at times annoying platforming a...</td>\n",
       "      <td>1</td>\n",
       "      <td>0</td>\n",
       "    </tr>\n",
       "  </tbody>\n",
       "</table>\n",
       "</div>"
      ]
     },
     "execution_count": 140,
     "metadata": {},
     "output_type": "execute_result"
    }
   ],
   "execution_count": 140
  },
  {
   "metadata": {},
   "cell_type": "markdown",
   "source": "# BOW (Bag of Words)",
   "id": "770eef929a9ec028"
  },
  {
   "metadata": {
    "ExecuteTime": {
     "end_time": "2024-04-05T02:56:26.424496Z",
     "start_time": "2024-04-05T02:55:59.521877Z"
    }
   },
   "cell_type": "code",
   "source": [
    "bow_vectorizer = CountVectorizer()\n",
    "bow_matrix = bow_vectorizer.fit_transform(df['review_text'])"
   ],
   "id": "7e7d4a31ee6815e6",
   "outputs": [],
   "execution_count": 141
  },
  {
   "metadata": {},
   "cell_type": "markdown",
   "source": "# TF-IDF",
   "id": "758ebf265b9fc083"
  },
  {
   "metadata": {
    "ExecuteTime": {
     "end_time": "2024-04-05T02:56:54.287248Z",
     "start_time": "2024-04-05T02:56:26.425867Z"
    }
   },
   "cell_type": "code",
   "source": [
    "tfidf_vectorizer = TfidfVectorizer()\n",
    "tfidf_matrix = tfidf_vectorizer.fit_transform(df['review_text'])"
   ],
   "id": "b1d2d6cec6d210d5",
   "outputs": [],
   "execution_count": 142
  },
  {
   "metadata": {},
   "cell_type": "markdown",
   "source": "# Word2Vec",
   "id": "ce406da1d1c55336"
  },
  {
   "metadata": {
    "ExecuteTime": {
     "end_time": "2024-04-05T03:09:08.986825Z",
     "start_time": "2024-04-05T02:56:54.288538Z"
    }
   },
   "cell_type": "code",
   "source": [
    "tokenized_reviews = [word_tokenize(review.lower()) for review in df['review_text']]\n",
    "word2vec_model = Word2Vec(tokenized_reviews, vector_size=100, window=3, min_count=1, sg=1)"
   ],
   "id": "866ec2f0466c9e7b",
   "outputs": [],
   "execution_count": 143
  },
  {
   "metadata": {},
   "cell_type": "markdown",
   "source": "# FastText",
   "id": "dcc97dfb84269d8e"
  },
  {
   "metadata": {
    "ExecuteTime": {
     "end_time": "2024-04-05T03:23:18.355416Z",
     "start_time": "2024-04-05T03:09:08.988509Z"
    }
   },
   "cell_type": "code",
   "source": "fasttext_model = FastText(tokenized_reviews, vector_size=100, window=3, min_count=1, sg=1)",
   "id": "1cb849a7d40f3b81",
   "outputs": [],
   "execution_count": 144
  },
  {
   "metadata": {},
   "cell_type": "markdown",
   "source": "# Пример текста для поиска",
   "id": "67865929ff48fd3e"
  },
  {
   "metadata": {
    "ExecuteTime": {
     "end_time": "2024-04-05T03:23:18.360696Z",
     "start_time": "2024-04-05T03:23:18.357692Z"
    }
   },
   "cell_type": "code",
   "source": "search_text = \"best game\"",
   "id": "ce1cf1410dec5d40",
   "outputs": [],
   "execution_count": 145
  },
  {
   "metadata": {},
   "cell_type": "markdown",
   "source": "# Результаты поиска",
   "id": "ee9b38cf1c524eed"
  },
  {
   "metadata": {
    "ExecuteTime": {
     "end_time": "2024-04-05T03:25:04.697949Z",
     "start_time": "2024-04-05T03:23:18.362010Z"
    }
   },
   "cell_type": "code",
   "source": [
    "search_vector_bow = bow_vectorizer.transform([search_text])\n",
    "search_vector_tfidf = tfidf_vectorizer.transform([search_text])\n",
    "search_vector_word2vec = sum([word2vec_model.wv[word] for word in word_tokenize(search_text.lower()) if word in word2vec_model.wv])\n",
    "search_vector_fasttext = sum([fasttext_model.wv[word] for word in word_tokenize(search_text.lower()) if word in fasttext_model.wv])\n",
    "\n",
    "results = []\n",
    "\n",
    "# Результаты для BOW\n",
    "bow_cosine_similarities = cosine_similarity(search_vector_bow, bow_matrix).flatten()\n",
    "bow_top_indices = bow_cosine_similarities.argsort()[-5:][::-1]\n",
    "results.append(('BOW', df.loc[bow_top_indices, 'review_text'].values))\n",
    "\n",
    "# Результаты для TF-IDF\n",
    "tfidf_cosine_similarities = cosine_similarity(search_vector_tfidf, tfidf_matrix).flatten()\n",
    "tfidf_top_indices = tfidf_cosine_similarities.argsort()[-5:][::-1]\n",
    "results.append(('TF-IDF', df.loc[tfidf_top_indices, 'review_text'].values))\n",
    "\n",
    "# Результаты для Word2Vec\n",
    "word2vec_similarities = [(cosine_similarity(search_vector_word2vec.reshape(1, -1), vector.reshape(1, -1)).item(), i) for i, vector in enumerate(word2vec_model.wv.vectors)]\n",
    "word2vec_top_indices = [index for _, index in sorted(word2vec_similarities, reverse=True)[:5] if index < len(df)]\n",
    "results.append(('Word2Vec', df.loc[word2vec_top_indices, 'review_text'].values))\n",
    "\n",
    "# Результаты для FastText\n",
    "fasttext_similarities = [(cosine_similarity(search_vector_fasttext.reshape(1, -1), vector.reshape(1, -1)).item(), i) for i, vector in enumerate(fasttext_model.wv.vectors)]\n",
    "fasttext_top_indices = [index for _, index in sorted(fasttext_similarities, reverse=True)[:5] if index < len(df)]\n",
    "results.append(('FastText', df.loc[fasttext_top_indices, 'review_text'].values))"
   ],
   "id": "5a5329ccd3f854d4",
   "outputs": [],
   "execution_count": 146
  },
  {
   "metadata": {},
   "cell_type": "markdown",
   "source": "# Вывод результатов",
   "id": "c80086c46e44f2e"
  },
  {
   "metadata": {
    "ExecuteTime": {
     "end_time": "2024-04-05T03:25:04.702738Z",
     "start_time": "2024-04-05T03:25:04.699061Z"
    }
   },
   "cell_type": "code",
   "source": [
    "for model, texts in results:\n",
    "    print(f\"\\nTop reviews using {model}:\")\n",
    "    for i, text in enumerate(texts, 1):\n",
    "        print(f\"{i}. {text}\")"
   ],
   "id": "20be022affac98cf",
   "outputs": [
    {
     "name": "stdout",
     "output_type": "stream",
     "text": [
      "\n",
      "Top reviews using BOW:\n",
      "1. I really like this game, For the people thinking about playing it, I'd suggest you to do one thing as I did. Don't play the logical way you think will benefit you the most and make you to 'win' this game. Play it the way as you were the person who got these chances, play it like YOU were the faust, when I did it, I figured out, I would die. Isn't that nice? :)  Graphics looks good the only thing I find that is bad is that I can't play this game in windowed mode, but it seems like it's running in borderless mode so Alt+tabbing is working without any problems.  On the other side, audio is really bad, it seems like it's lagging but that may be my problem only. Characters are not talking, only subtitles are there, but I don't really mind it.  This game is very short when you play it only once but I believe this game is not meant to be played only once, considering every action you do changes the story. First time I played this game I finished it in 40 minutes, second playtime I finished in 30 minutes. And I'm not bored yet, I will play this game when achievements will be working.  So if you ask me, I highly suggest you this game, :)\n",
      "2. Played this on my laptop on Steam using free Wi-Fi.  10/10 would get kicked out of Burger King before I finished with my Whopper again.\n",
      "3. Can't arugue about how cheap it is but in all really thin is a fun game but it could use some more content like more craftable items but its worth what you pay in my opinion.\n",
      "4. this game is really good ! :)\n",
      "5. Really really great\n",
      "\n",
      "Top reviews using TF-IDF:\n",
      "1. Interesting game, although a bit quirky. Not much replayability as of yet. Once you finish the campaign, you can either replay it and lose your previous save data or well...read the comic... It'd be nice for a different way to play the game such as a sandbox mode or some other point of view... All I can say is, if I and another officer refused to go on a call at my job, we would be relieved of duty effective immediately... Happens pretty frequently in this game though... Still the story is decent.\n",
      "2. Love it 10/10\n",
      "3. this game is really good ! :)\n",
      "4. i had a good little army of 47 loyal soldiers. I was stopped by a guy that had 70 soldies and i surrendered to him. I lost evrything and all of my soldiers is there any way to get them back?\n",
      "5. I really like this game, For the people thinking about playing it, I'd suggest you to do one thing as I did. Don't play the logical way you think will benefit you the most and make you to 'win' this game. Play it the way as you were the person who got these chances, play it like YOU were the faust, when I did it, I figured out, I would die. Isn't that nice? :)  Graphics looks good the only thing I find that is bad is that I can't play this game in windowed mode, but it seems like it's running in borderless mode so Alt+tabbing is working without any problems.  On the other side, audio is really bad, it seems like it's lagging but that may be my problem only. Characters are not talking, only subtitles are there, but I don't really mind it.  This game is very short when you play it only once but I believe this game is not meant to be played only once, considering every action you do changes the story. First time I played this game I finished it in 40 minutes, second playtime I finished in 30 minutes. And I'm not bored yet, I will play this game when achievements will be working.  So if you ask me, I highly suggest you this game, :)\n",
      "\n",
      "Top reviews using Word2Vec:\n",
      "1. Great successor with better engine and even more gameplay. If you like The Binding of Issac or If you like roguelikes this game for sure its for you. +100h if you going to get every achevemetns. Also fun local co-op and just more stuff game this game top of the roguelikes.   You tottaly should try it even if you never try rogulikes or The Binding of Isaac.\n",
      "2.  Early Access Review\n",
      "3. This game is fanny\n",
      "4. This game asks one simple question: Can you build a nation that will stand the test of time?  Its not an easy question to work out 'yes' to if you're looking for a challenge. The AI might be random at times or it might be entirely logical, But from playing it I've learned you should always keep on your toes. Outside of easy, the computer players can outmatch you but not just militarily - unless you hit the ground running you can be quickly overshadowed.  This incarnation of the Civilization franchise makes a lot of changes, namely the switch from a grid to hexagons and the removal of the ability to stack units. Some people loathe this but after playing it i've found the whole thing less of a meatgrinder; no throwing your army at a stack of 23 armies on one square, no 31+ stack of armies lying in wait when you attack an enemy city. In fact the system makes it more viable and likely to surround a city (which is what happened in most wars by the way) rather than charge headlong at it with a bulk army. Every detail of the world is beautifully rendered, sometimes I found myself panning the camera over my and my enemies' civs imagining what life is like in the piece of Earth they have carved out.  Gods and Kings and Brave New World - its epansions - at a ton of variety to the game. The culture victory option for example, involves tourism and cultural influence, which is how places like America, Japan and the UK ingrain their cultural mannerisms elsewhere in the real world.  The game is not just beautiful on a strategic level; I'm a fan of history and culture and this game is bursting at the seams with it, especially with Brave New World; every technology has an associated quote be it a passage of a holy book, a line from a Greek, Roman or Shakesperian play or a phrase coined by a legendary person. Every world wonder you complete shows you an oil-on-canvas painting of it complete with a quote that relates to its purpose or its reputation, in the second expansion your great people can world-renowned paintings and compositions which you, the player, can enjoy for yourself. It makes you want to build wonders even more if this is your kind of thing.  Whether you're an empire builder at heart, passionate for history, love high culture or just enjoy watching burning everything to the ground. This is a worthy addition to the franchise so get this, get the expansions too (even if you're nonreligions, Gods and Kings adds a lot of other stuff to the game), this game would be ideal for you.  Just don't expect to be done in a three-hour session; Civ is not a game for the twitch player. Its famous for that.\n",
      "5. now with Australian server\n",
      "\n",
      "Top reviews using FastText:\n",
      "1. Great successor with better engine and even more gameplay. If you like The Binding of Issac or If you like roguelikes this game for sure its for you. +100h if you going to get every achevemetns. Also fun local co-op and just more stuff game this game top of the roguelikes.   You tottaly should try it even if you never try rogulikes or The Binding of Isaac.\n",
      "2. This is a game whose core idea is surprisingly sound, and more compelling than I thought it would be, but is implemented into a game that's constantly at cross-purposes with itself. Your vehicle upgrades matter more than your agility, and as you start with the most upgradeable one, there's no reason to ever use or upgrade another. While there are tracks that show they know how to give you -just- enough of a view to quickly react, all too many contain spots where you literally cannot see what's oncoming. There's a reverse-your-controls debuff that's leaned on entirely too much, and that reverses your boost and brake buttons in a way that knocks you out of the game (given you otherwise just hold down boost at all times). Buying gate keys and track info is completely pointless, and 'gold' times and tantalum are just the same thing (that is, the tantalum you get is just based on finish time, and the time needed to get all the tantalum is the same as the gold time).  Oh, and the gates are the four usual suspect colors, with no way to change 'em. If you're red-green colorblind, it will be a problem.  Dodging gates is surprisingly fun. Get into it, get a good streak going and you feel like a ninja, it's awesome. And those moments are much rarer than they should be, due to several elements of the game's design. Honestly, it's not worth it.\n",
      "3. its nice\n",
      "4.  Early Access Review\n",
      "5. Pure awesome, be warned the end can be little frustrating\n"
     ]
    }
   ],
   "execution_count": 147
  }
 ],
 "metadata": {
  "kernelspec": {
   "display_name": "Python 3",
   "language": "python",
   "name": "python3"
  },
  "language_info": {
   "codemirror_mode": {
    "name": "ipython",
    "version": 2
   },
   "file_extension": ".py",
   "mimetype": "text/x-python",
   "name": "python",
   "nbconvert_exporter": "python",
   "pygments_lexer": "ipython2",
   "version": "2.7.6"
  }
 },
 "nbformat": 4,
 "nbformat_minor": 5
}
